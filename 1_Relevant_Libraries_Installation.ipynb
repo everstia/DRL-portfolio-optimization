{
 "cells": [
  {
   "cell_type": "markdown",
   "metadata": {},
   "source": [
    "# Asset Portfolio Management using Deep Reinforcement Learning\n",
    "---"
   ]
  },
  {
   "cell_type": "markdown",
   "metadata": {},
   "source": [
    "## 1.0 Load and Install Relevant Libraries and Packages\n",
    "----\n",
    "\n",
    "* We install the relevant Libraries using the FinRL Library\n",
    "* We further check that all the required Libraries are installed and if not we use !pip install to install them"
   ]
  },
  {
   "cell_type": "code",
   "execution_count": 1,
   "metadata": {
    "scrolled": true
   },
   "outputs": [
    {
     "name": "stdout",
     "output_type": "stream",
     "text": [
      "{'pandas', 'debugpy', 'munkres', 'tomli', 'backcall', 'psutil', 'stack-data', 'python-dateutil', 'contourpy', 'setuptools', 'PySocks', 'h2', 'certifi', 'hyperframe', 'cffi', 'Pygments', 'joblib', 'tornado', 'pillow', 'FinRL', 'ply', 'pywin32', 'comm', 'platformdirs', 'matplotlib', 'tzdata', 'toml', 'PyQt5', 'pandas-datareader', 'pooch', 'ipykernel', 'patsy', 'numpy', 'wcwidth', 'statsmodels', 'prompt_toolkit', 'lxml', 'scikit-learn', 'threadpoolctl', 'pip', 'empyrical', 'traitlets', 'executing', 'jupyter_client', 'PyQt5-sip', 'decorator', 'jupyter_core', 'nest-asyncio', 'typing_extensions', 'jedi', 'ipython', 'requests', 'pickleshare', 'urllib3', 'pyparsing', 'pyzmq', 'asttokens', 'Brotli', 'scipy', 'charset-normalizer', 'importlib_resources', 'seaborn', 'colorama', 'matplotlib-inline', 'parso', 'pure_eval', 'unicodedata2', 'hpack', 'idna', 'pyfolio', 'zstandard', 'sip', 'six', 'win_inet_pton', 'fonttools', 'pycparser', 'wheel', 'importlib_metadata', 'packaging', 'cycler', 'pytz', 'kiwisolver', 'zipp'}\n"
     ]
    }
   ],
   "source": [
    "from importlib.metadata import distributions\n",
    "\n",
    "installed_packages = {dist.metadata['Name'] for dist in distributions()}\n",
    "print(installed_packages)\n",
    "from importlib.metadata import version"
   ]
  },
  {
   "cell_type": "code",
   "execution_count": 3,
   "metadata": {},
   "outputs": [
    {
     "name": "stdout",
     "output_type": "stream",
     "text": [
      "Requirement already satisfied: pyfolio in f:\\anaconda\\envs\\pyfolio_env\\lib\\site-packages (0.9.2+75.g4b901f6)\n",
      "Requirement already satisfied: ipython>=3.2.3 in f:\\anaconda\\envs\\pyfolio_env\\lib\\site-packages (from pyfolio) (8.12.3)\n",
      "Requirement already satisfied: matplotlib>=1.4.0 in f:\\anaconda\\envs\\pyfolio_env\\lib\\site-packages (from pyfolio) (3.7.3)\n",
      "Requirement already satisfied: numpy>=1.11.1 in f:\\anaconda\\envs\\pyfolio_env\\lib\\site-packages (from pyfolio) (1.24.4)\n",
      "Requirement already satisfied: pandas>=0.18.1 in f:\\anaconda\\envs\\pyfolio_env\\lib\\site-packages (from pyfolio) (2.0.3)\n",
      "Requirement already satisfied: pytz>=2014.10 in f:\\anaconda\\envs\\pyfolio_env\\lib\\site-packages (from pyfolio) (2024.2)\n",
      "Requirement already satisfied: scipy>=0.14.0 in f:\\anaconda\\envs\\pyfolio_env\\lib\\site-packages (from pyfolio) (1.10.1)\n",
      "Requirement already satisfied: scikit-learn>=0.16.1 in f:\\anaconda\\envs\\pyfolio_env\\lib\\site-packages (from pyfolio) (1.3.2)\n",
      "Requirement already satisfied: seaborn>=0.7.1 in f:\\anaconda\\envs\\pyfolio_env\\lib\\site-packages (from pyfolio) (0.13.2)\n",
      "Requirement already satisfied: empyrical>=0.5.0 in f:\\anaconda\\envs\\pyfolio_env\\lib\\site-packages (from pyfolio) (0.5.5)\n",
      "Requirement already satisfied: pandas-datareader>=0.2 in f:\\anaconda\\envs\\pyfolio_env\\lib\\site-packages (from empyrical>=0.5.0->pyfolio) (0.10.0)\n",
      "Requirement already satisfied: backcall in f:\\anaconda\\envs\\pyfolio_env\\lib\\site-packages (from ipython>=3.2.3->pyfolio) (0.2.0)\n",
      "Requirement already satisfied: decorator in f:\\anaconda\\envs\\pyfolio_env\\lib\\site-packages (from ipython>=3.2.3->pyfolio) (5.1.1)\n",
      "Requirement already satisfied: jedi>=0.16 in f:\\anaconda\\envs\\pyfolio_env\\lib\\site-packages (from ipython>=3.2.3->pyfolio) (0.19.2)\n",
      "Requirement already satisfied: matplotlib-inline in f:\\anaconda\\envs\\pyfolio_env\\lib\\site-packages (from ipython>=3.2.3->pyfolio) (0.1.7)\n",
      "Requirement already satisfied: pickleshare in f:\\anaconda\\envs\\pyfolio_env\\lib\\site-packages (from ipython>=3.2.3->pyfolio) (0.7.5)\n",
      "Requirement already satisfied: prompt-toolkit!=3.0.37,<3.1.0,>=3.0.30 in f:\\anaconda\\envs\\pyfolio_env\\lib\\site-packages (from ipython>=3.2.3->pyfolio) (3.0.48)\n",
      "Requirement already satisfied: pygments>=2.4.0 in f:\\anaconda\\envs\\pyfolio_env\\lib\\site-packages (from ipython>=3.2.3->pyfolio) (2.18.0)\n",
      "Requirement already satisfied: stack-data in f:\\anaconda\\envs\\pyfolio_env\\lib\\site-packages (from ipython>=3.2.3->pyfolio) (0.6.3)\n",
      "Requirement already satisfied: traitlets>=5 in f:\\anaconda\\envs\\pyfolio_env\\lib\\site-packages (from ipython>=3.2.3->pyfolio) (5.14.3)\n",
      "Requirement already satisfied: typing-extensions in f:\\anaconda\\envs\\pyfolio_env\\lib\\site-packages (from ipython>=3.2.3->pyfolio) (4.12.2)\n",
      "Requirement already satisfied: colorama in f:\\anaconda\\envs\\pyfolio_env\\lib\\site-packages (from ipython>=3.2.3->pyfolio) (0.4.6)\n",
      "Requirement already satisfied: contourpy>=1.0.1 in f:\\anaconda\\envs\\pyfolio_env\\lib\\site-packages (from matplotlib>=1.4.0->pyfolio) (1.1.1)\n",
      "Requirement already satisfied: cycler>=0.10 in f:\\anaconda\\envs\\pyfolio_env\\lib\\site-packages (from matplotlib>=1.4.0->pyfolio) (0.12.1)\n",
      "Requirement already satisfied: fonttools>=4.22.0 in f:\\anaconda\\envs\\pyfolio_env\\lib\\site-packages (from matplotlib>=1.4.0->pyfolio) (4.53.1)\n",
      "Requirement already satisfied: kiwisolver>=1.0.1 in f:\\anaconda\\envs\\pyfolio_env\\lib\\site-packages (from matplotlib>=1.4.0->pyfolio) (1.4.5)\n",
      "Requirement already satisfied: packaging>=20.0 in f:\\anaconda\\envs\\pyfolio_env\\lib\\site-packages (from matplotlib>=1.4.0->pyfolio) (24.2)\n",
      "Requirement already satisfied: pillow>=6.2.0 in f:\\anaconda\\envs\\pyfolio_env\\lib\\site-packages (from matplotlib>=1.4.0->pyfolio) (10.4.0)\n",
      "Requirement already satisfied: pyparsing>=2.3.1 in f:\\anaconda\\envs\\pyfolio_env\\lib\\site-packages (from matplotlib>=1.4.0->pyfolio) (3.1.4)\n",
      "Requirement already satisfied: python-dateutil>=2.7 in f:\\anaconda\\envs\\pyfolio_env\\lib\\site-packages (from matplotlib>=1.4.0->pyfolio) (2.9.0)\n",
      "Requirement already satisfied: importlib-resources>=3.2.0 in f:\\anaconda\\envs\\pyfolio_env\\lib\\site-packages (from matplotlib>=1.4.0->pyfolio) (6.4.5)\n",
      "Requirement already satisfied: tzdata>=2022.1 in f:\\anaconda\\envs\\pyfolio_env\\lib\\site-packages (from pandas>=0.18.1->pyfolio) (2024.2)\n",
      "Requirement already satisfied: joblib>=1.1.1 in f:\\anaconda\\envs\\pyfolio_env\\lib\\site-packages (from scikit-learn>=0.16.1->pyfolio) (1.4.2)\n",
      "Requirement already satisfied: threadpoolctl>=2.0.0 in f:\\anaconda\\envs\\pyfolio_env\\lib\\site-packages (from scikit-learn>=0.16.1->pyfolio) (3.5.0)\n",
      "Requirement already satisfied: zipp>=3.1.0 in f:\\anaconda\\envs\\pyfolio_env\\lib\\site-packages (from importlib-resources>=3.2.0->matplotlib>=1.4.0->pyfolio) (3.21.0)\n",
      "Requirement already satisfied: parso<0.9.0,>=0.8.4 in f:\\anaconda\\envs\\pyfolio_env\\lib\\site-packages (from jedi>=0.16->ipython>=3.2.3->pyfolio) (0.8.4)\n",
      "Requirement already satisfied: lxml in f:\\anaconda\\envs\\pyfolio_env\\lib\\site-packages (from pandas-datareader>=0.2->empyrical>=0.5.0->pyfolio) (5.3.0)\n",
      "Requirement already satisfied: requests>=2.19.0 in f:\\anaconda\\envs\\pyfolio_env\\lib\\site-packages (from pandas-datareader>=0.2->empyrical>=0.5.0->pyfolio) (2.32.3)\n",
      "Requirement already satisfied: wcwidth in f:\\anaconda\\envs\\pyfolio_env\\lib\\site-packages (from prompt-toolkit!=3.0.37,<3.1.0,>=3.0.30->ipython>=3.2.3->pyfolio) (0.2.13)\n",
      "Requirement already satisfied: six>=1.5 in f:\\anaconda\\envs\\pyfolio_env\\lib\\site-packages (from python-dateutil>=2.7->matplotlib>=1.4.0->pyfolio) (1.16.0)\n",
      "Requirement already satisfied: executing>=1.2.0 in f:\\anaconda\\envs\\pyfolio_env\\lib\\site-packages (from stack-data->ipython>=3.2.3->pyfolio) (2.1.0)\n",
      "Requirement already satisfied: asttokens>=2.1.0 in f:\\anaconda\\envs\\pyfolio_env\\lib\\site-packages (from stack-data->ipython>=3.2.3->pyfolio) (3.0.0)\n",
      "Requirement already satisfied: pure-eval in f:\\anaconda\\envs\\pyfolio_env\\lib\\site-packages (from stack-data->ipython>=3.2.3->pyfolio) (0.2.3)\n",
      "Requirement already satisfied: charset-normalizer<4,>=2 in f:\\anaconda\\envs\\pyfolio_env\\lib\\site-packages (from requests>=2.19.0->pandas-datareader>=0.2->empyrical>=0.5.0->pyfolio) (3.4.0)\n",
      "Requirement already satisfied: idna<4,>=2.5 in f:\\anaconda\\envs\\pyfolio_env\\lib\\site-packages (from requests>=2.19.0->pandas-datareader>=0.2->empyrical>=0.5.0->pyfolio) (3.10)\n",
      "Requirement already satisfied: urllib3<3,>=1.21.1 in f:\\anaconda\\envs\\pyfolio_env\\lib\\site-packages (from requests>=2.19.0->pandas-datareader>=0.2->empyrical>=0.5.0->pyfolio) (2.2.3)\n",
      "Requirement already satisfied: certifi>=2017.4.17 in f:\\anaconda\\envs\\pyfolio_env\\lib\\site-packages (from requests>=2.19.0->pandas-datareader>=0.2->empyrical>=0.5.0->pyfolio) (2024.8.30)\n",
      "Note: you may need to restart the kernel to use updated packages.\n"
     ]
    }
   ],
   "source": [
    "pip install pyfolio"
   ]
  },
  {
   "cell_type": "code",
   "execution_count": 5,
   "metadata": {},
   "outputs": [
    {
     "name": "stdout",
     "output_type": "stream",
     "text": [
      "Requirement already satisfied: finrl in f:\\anaconda\\envs\\pyfolio_env\\lib\\site-packages (0.3.7)\n",
      "Note: you may need to restart the kernel to use updated packages.\n"
     ]
    }
   ],
   "source": [
    "pip install finrl"
   ]
  },
  {
   "cell_type": "markdown",
   "metadata": {},
   "source": [
    "----\n",
    "### 1.2. Check if the additional Required packages are present. If not, install them\n",
    "\n",
    "* Yahoo Finance API\n",
    "* pandas\n",
    "* numpy\n",
    "* matplotlib\n",
    "* stockstats\n",
    "* OpenAI gym\n",
    "* stable-baselines\n",
    "* tensorflow\n",
    "* pyfolio\n",
    "* ta\n",
    "* PyPortfolioOpt"
   ]
  },
  {
   "cell_type": "code",
   "execution_count": null,
   "metadata": {
    "scrolled": true
   },
   "outputs": [
    {
     "name": "stdout",
     "output_type": "stream",
     "text": [
      "Collecting yfinance\n",
      "  Downloading yfinance-0.2.51-py2.py3-none-any.whl.metadata (5.5 kB)\n",
      "Requirement already satisfied: pandas>=1.3.0 in f:\\anaconda\\envs\\pyfolio_env\\lib\\site-packages (from yfinance) (2.0.3)\n",
      "Requirement already satisfied: numpy>=1.16.5 in f:\\anaconda\\envs\\pyfolio_env\\lib\\site-packages (from yfinance) (1.24.4)\n",
      "Requirement already satisfied: requests>=2.31 in f:\\anaconda\\envs\\pyfolio_env\\lib\\site-packages (from yfinance) (2.32.3)\n",
      "Collecting multitasking>=0.0.7 (from yfinance)\n",
      "  Using cached multitasking-0.0.11-py3-none-any.whl.metadata (5.5 kB)\n",
      "Requirement already satisfied: lxml>=4.9.1 in f:\\anaconda\\envs\\pyfolio_env\\lib\\site-packages (from yfinance) (5.3.0)\n",
      "Requirement already satisfied: platformdirs>=2.0.0 in f:\\anaconda\\envs\\pyfolio_env\\lib\\site-packages (from yfinance) (4.3.6)\n",
      "Requirement already satisfied: pytz>=2022.5 in f:\\anaconda\\envs\\pyfolio_env\\lib\\site-packages (from yfinance) (2024.2)\n",
      "Collecting frozendict>=2.3.4 (from yfinance)\n",
      "  Downloading frozendict-2.4.6-cp38-cp38-win_amd64.whl.metadata (23 kB)\n",
      "Collecting peewee>=3.16.2 (from yfinance)\n",
      "  Using cached peewee-3.17.8.tar.gz (948 kB)\n",
      "  Installing build dependencies: started\n",
      "  Installing build dependencies: finished with status 'done'\n",
      "  Getting requirements to build wheel: started\n",
      "  Getting requirements to build wheel: finished with status 'done'\n",
      "  Preparing metadata (pyproject.toml): started\n",
      "  Preparing metadata (pyproject.toml): finished with status 'done'\n",
      "Collecting beautifulsoup4>=4.11.1 (from yfinance)\n",
      "  Using cached beautifulsoup4-4.12.3-py3-none-any.whl.metadata (3.8 kB)\n",
      "Collecting html5lib>=1.1 (from yfinance)\n",
      "  Using cached html5lib-1.1-py2.py3-none-any.whl.metadata (16 kB)\n",
      "Collecting soupsieve>1.2 (from beautifulsoup4>=4.11.1->yfinance)\n",
      "  Using cached soupsieve-2.6-py3-none-any.whl.metadata (4.6 kB)\n",
      "Requirement already satisfied: six>=1.9 in f:\\anaconda\\envs\\pyfolio_env\\lib\\site-packages (from html5lib>=1.1->yfinance) (1.16.0)\n",
      "Collecting webencodings (from html5lib>=1.1->yfinance)\n",
      "  Using cached webencodings-0.5.1-py2.py3-none-any.whl.metadata (2.1 kB)\n",
      "Requirement already satisfied: python-dateutil>=2.8.2 in f:\\anaconda\\envs\\pyfolio_env\\lib\\site-packages (from pandas>=1.3.0->yfinance) (2.9.0)\n",
      "Requirement already satisfied: tzdata>=2022.1 in f:\\anaconda\\envs\\pyfolio_env\\lib\\site-packages (from pandas>=1.3.0->yfinance) (2024.2)\n",
      "Requirement already satisfied: charset-normalizer<4,>=2 in f:\\anaconda\\envs\\pyfolio_env\\lib\\site-packages (from requests>=2.31->yfinance) (3.4.0)\n",
      "Requirement already satisfied: idna<4,>=2.5 in f:\\anaconda\\envs\\pyfolio_env\\lib\\site-packages (from requests>=2.31->yfinance) (3.10)\n",
      "Requirement already satisfied: urllib3<3,>=1.21.1 in f:\\anaconda\\envs\\pyfolio_env\\lib\\site-packages (from requests>=2.31->yfinance) (2.2.3)\n",
      "Requirement already satisfied: certifi>=2017.4.17 in f:\\anaconda\\envs\\pyfolio_env\\lib\\site-packages (from requests>=2.31->yfinance) (2024.8.30)\n",
      "Downloading yfinance-0.2.51-py2.py3-none-any.whl (104 kB)\n",
      "Using cached beautifulsoup4-4.12.3-py3-none-any.whl (147 kB)\n",
      "Downloading frozendict-2.4.6-cp38-cp38-win_amd64.whl (37 kB)\n",
      "Using cached html5lib-1.1-py2.py3-none-any.whl (112 kB)\n",
      "Using cached multitasking-0.0.11-py3-none-any.whl (8.5 kB)\n",
      "Using cached soupsieve-2.6-py3-none-any.whl (36 kB)\n",
      "Using cached webencodings-0.5.1-py2.py3-none-any.whl (11 kB)\n",
      "Building wheels for collected packages: peewee\n",
      "  Building wheel for peewee (pyproject.toml): started\n",
      "  Building wheel for peewee (pyproject.toml): finished with status 'done'\n",
      "  Created wheel for peewee: filename=peewee-3.17.8-py3-none-any.whl size=139012 sha256=d25cc343777da83f3b26153ccb891f401aae953260bfc46cbbf729e8df8269f3\n",
      "  Stored in directory: c:\\users\\evert\\appdata\\local\\pip\\cache\\wheels\\9f\\cb\\64\\f38f9e4b9ef397c781cbd58e530f31841cb0a3740b5109bbb8\n",
      "Successfully built peewee\n",
      "Installing collected packages: webencodings, peewee, multitasking, soupsieve, html5lib, frozendict, beautifulsoup4, yfinance\n",
      "Successfully installed beautifulsoup4-4.12.3 frozendict-2.4.6 html5lib-1.1 multitasking-0.0.11 peewee-3.17.8 soupsieve-2.6 webencodings-0.5.1 yfinance-0.2.51\n",
      "Requirement already satisfied: pandas in f:\\anaconda\\envs\\pyfolio_env\\lib\\site-packages (2.0.3)\n",
      "Requirement already satisfied: python-dateutil>=2.8.2 in f:\\anaconda\\envs\\pyfolio_env\\lib\\site-packages (from pandas) (2.9.0)\n",
      "Requirement already satisfied: pytz>=2020.1 in f:\\anaconda\\envs\\pyfolio_env\\lib\\site-packages (from pandas) (2024.2)\n",
      "Requirement already satisfied: tzdata>=2022.1 in f:\\anaconda\\envs\\pyfolio_env\\lib\\site-packages (from pandas) (2024.2)\n",
      "Requirement already satisfied: numpy>=1.20.3 in f:\\anaconda\\envs\\pyfolio_env\\lib\\site-packages (from pandas) (1.24.4)\n",
      "Requirement already satisfied: six>=1.5 in f:\\anaconda\\envs\\pyfolio_env\\lib\\site-packages (from python-dateutil>=2.8.2->pandas) (1.16.0)\n",
      "Requirement already satisfied: numpy in f:\\anaconda\\envs\\pyfolio_env\\lib\\site-packages (1.24.4)\n",
      "Requirement already satisfied: matplotlib in f:\\anaconda\\envs\\pyfolio_env\\lib\\site-packages (3.7.3)\n",
      "Requirement already satisfied: contourpy>=1.0.1 in f:\\anaconda\\envs\\pyfolio_env\\lib\\site-packages (from matplotlib) (1.1.1)\n",
      "Requirement already satisfied: cycler>=0.10 in f:\\anaconda\\envs\\pyfolio_env\\lib\\site-packages (from matplotlib) (0.12.1)\n",
      "Requirement already satisfied: fonttools>=4.22.0 in f:\\anaconda\\envs\\pyfolio_env\\lib\\site-packages (from matplotlib) (4.53.1)\n",
      "Requirement already satisfied: kiwisolver>=1.0.1 in f:\\anaconda\\envs\\pyfolio_env\\lib\\site-packages (from matplotlib) (1.4.5)\n",
      "Requirement already satisfied: numpy<2,>=1.20 in f:\\anaconda\\envs\\pyfolio_env\\lib\\site-packages (from matplotlib) (1.24.4)\n",
      "Requirement already satisfied: packaging>=20.0 in f:\\anaconda\\envs\\pyfolio_env\\lib\\site-packages (from matplotlib) (24.2)\n",
      "Requirement already satisfied: pillow>=6.2.0 in f:\\anaconda\\envs\\pyfolio_env\\lib\\site-packages (from matplotlib) (10.4.0)\n",
      "Requirement already satisfied: pyparsing>=2.3.1 in f:\\anaconda\\envs\\pyfolio_env\\lib\\site-packages (from matplotlib) (3.1.4)\n",
      "Requirement already satisfied: python-dateutil>=2.7 in f:\\anaconda\\envs\\pyfolio_env\\lib\\site-packages (from matplotlib) (2.9.0)\n",
      "Requirement already satisfied: importlib-resources>=3.2.0 in f:\\anaconda\\envs\\pyfolio_env\\lib\\site-packages (from matplotlib) (6.4.5)\n",
      "Requirement already satisfied: zipp>=3.1.0 in f:\\anaconda\\envs\\pyfolio_env\\lib\\site-packages (from importlib-resources>=3.2.0->matplotlib) (3.21.0)\n",
      "Requirement already satisfied: six>=1.5 in f:\\anaconda\\envs\\pyfolio_env\\lib\\site-packages (from python-dateutil>=2.7->matplotlib) (1.16.0)\n"
     ]
    }
   ],
   "source": [
    "required = {'yfinance', 'pandas','numpy', 'matplotlib', 'stockstats','stable-baselines',\n",
    "            'gym','tensorflow','pyfolio', 'ta', 'PyPortfolioOpt'}\n",
    "missing = required - installed_packages\n",
    "if missing:\n",
    "    !pip install yfinance\n",
    "    !pip install pandas\n",
    "    !pip install numpy\n",
    "    !pip install matplotlib\n",
    "    !pip install stockstats\n",
    "    !pip install gym\n",
    "    !pip install stable-baselines3[extra]\n",
    "    !pip install tensorflow\n",
    "    !pip install git+https://github.com/quantopian/pyfolio\n",
    "    !pip install ta\n",
    "    !pip install PyPortfolioOpt\n",
    "    !pip install pandas_datareader\n"
   ]
  },
  {
   "cell_type": "code",
   "execution_count": null,
   "metadata": {},
   "outputs": [],
   "source": []
  }
 ],
 "metadata": {
  "kernelspec": {
   "display_name": "Python [conda env:pyfolio_env]",
   "language": "python",
   "name": "conda-env-pyfolio_env-py"
  },
  "language_info": {
   "codemirror_mode": {
    "name": "ipython",
    "version": 3
   },
   "file_extension": ".py",
   "mimetype": "text/x-python",
   "name": "python",
   "nbconvert_exporter": "python",
   "pygments_lexer": "ipython3",
   "version": "3.8.20"
  }
 },
 "nbformat": 4,
 "nbformat_minor": 4
}
